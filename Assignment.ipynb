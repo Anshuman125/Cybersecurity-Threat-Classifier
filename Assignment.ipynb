{
 "cells": [
  {
   "cell_type": "markdown",
   "metadata": {},
   "source": [
    "# **Objective**: \n",
    "##### **The goal of this task is to classify cybersecurity threats based on a given dataset using Machine Learning. You are required to preprocess the data, train an ML model, and evaluate its performance.**"
   ]
  },
  {
   "cell_type": "code",
   "execution_count": 26,
   "metadata": {},
   "outputs": [],
   "source": [
    "import pandas as pd\n",
    "import numpy as np\n",
    "import matplotlib.pyplot as plt\n",
    "from scipy.stats import chi2_contingency\n",
    "from xgboost import XGBClassifier\n",
    "import seaborn as sns\n",
    "from sklearn.model_selection import train_test_split\n",
    "from sklearn.preprocessing import OneHotEncoder, OrdinalEncoder\n",
    "from sklearn.model_selection import GridSearchCV\n",
    "from xgboost import XGBClassifier\n",
    "from sklearn.metrics import classification_report, confusion_matrix\n",
    "from sklearn.metrics import roc_auc_score, roc_curve\n",
    "import lightgbm as lgb"
   ]
  },
  {
   "cell_type": "markdown",
   "metadata": {},
   "source": [
    "### **Load the data**"
   ]
  },
  {
   "cell_type": "code",
   "execution_count": 76,
   "metadata": {},
   "outputs": [
    {
     "name": "stdout",
     "output_type": "stream",
     "text": [
      "<class 'pandas.core.frame.DataFrame'>\n",
      "RangeIndex: 171380 entries, 0 to 171379\n",
      "Data columns (total 21 columns):\n",
      " #   Column                          Non-Null Count   Dtype  \n",
      "---  ------                          --------------   -----  \n",
      " 0   generated                       171380 non-null  object \n",
      " 1   appName                         171380 non-null  object \n",
      " 2   totalSourceBytes                171380 non-null  int64  \n",
      " 3   totalDestinationBytes           171380 non-null  int64  \n",
      " 4   totalDestinationPackets         171380 non-null  int64  \n",
      " 5   totalSourcePackets              171380 non-null  int64  \n",
      " 6   sourcePayloadAsBase64           84579 non-null   object \n",
      " 7   sourcePayloadAsUTF              0 non-null       float64\n",
      " 8   destinationPayloadAsBase64      74634 non-null   object \n",
      " 9   destinationPayloadAsUTF         74616 non-null   object \n",
      " 10  direction                       171380 non-null  object \n",
      " 11  sourceTCPFlagsDescription       122074 non-null  object \n",
      " 12  destinationTCPFlagsDescription  117397 non-null  object \n",
      " 13  source                          171380 non-null  object \n",
      " 14  protocolName                    171380 non-null  object \n",
      " 15  sourcePort                      171380 non-null  int64  \n",
      " 16  destination                     171380 non-null  object \n",
      " 17  destinationPort                 171380 non-null  int64  \n",
      " 18  startDateTime                   171380 non-null  object \n",
      " 19  stopDateTime                    171380 non-null  object \n",
      " 20  Label                           171380 non-null  object \n",
      "dtypes: float64(1), int64(6), object(14)\n",
      "memory usage: 27.5+ MB\n"
     ]
    }
   ],
   "source": [
    "data = pd.read_csv('TestbedMonJun14Flows.csv')\n",
    "data.info()"
   ]
  },
  {
   "cell_type": "markdown",
   "metadata": {},
   "source": [
    "#### **Drop the rows where Label column contains NaN**"
   ]
  },
  {
   "cell_type": "code",
   "execution_count": 5,
   "metadata": {},
   "outputs": [
    {
     "name": "stdout",
     "output_type": "stream",
     "text": [
      "<class 'pandas.core.frame.DataFrame'>\n",
      "RangeIndex: 171380 entries, 0 to 171379\n",
      "Data columns (total 21 columns):\n",
      " #   Column                          Non-Null Count   Dtype  \n",
      "---  ------                          --------------   -----  \n",
      " 0   generated                       171380 non-null  object \n",
      " 1   appName                         171380 non-null  object \n",
      " 2   totalSourceBytes                171380 non-null  int64  \n",
      " 3   totalDestinationBytes           171380 non-null  int64  \n",
      " 4   totalDestinationPackets         171380 non-null  int64  \n",
      " 5   totalSourcePackets              171380 non-null  int64  \n",
      " 6   sourcePayloadAsBase64           84579 non-null   object \n",
      " 7   sourcePayloadAsUTF              0 non-null       float64\n",
      " 8   destinationPayloadAsBase64      74634 non-null   object \n",
      " 9   destinationPayloadAsUTF         74616 non-null   object \n",
      " 10  direction                       171380 non-null  object \n",
      " 11  sourceTCPFlagsDescription       122074 non-null  object \n",
      " 12  destinationTCPFlagsDescription  117397 non-null  object \n",
      " 13  source                          171380 non-null  object \n",
      " 14  protocolName                    171380 non-null  object \n",
      " 15  sourcePort                      171380 non-null  int64  \n",
      " 16  destination                     171380 non-null  object \n",
      " 17  destinationPort                 171380 non-null  int64  \n",
      " 18  startDateTime                   171380 non-null  object \n",
      " 19  stopDateTime                    171380 non-null  object \n",
      " 20  Label                           171380 non-null  object \n",
      "dtypes: float64(1), int64(6), object(14)\n",
      "memory usage: 27.5+ MB\n"
     ]
    }
   ],
   "source": [
    "data = data.dropna(subset=['Label'])\n",
    "data.info()"
   ]
  },
  {
   "cell_type": "code",
   "execution_count": 30,
   "metadata": {},
   "outputs": [
    {
     "name": "stdout",
     "output_type": "stream",
     "text": [
      "Payload Presence Correlation: 0.142\n",
      "TCP Flag Correlation: 0.863\n"
     ]
    }
   ],
   "source": [
    "def cramers_v(feature, target):\n",
    "    contingency = pd.crosstab(feature, target)\n",
    "    chi2 = chi2_contingency(contingency)[0]\n",
    "    n = contingency.sum().sum()\n",
    "    phi2 = chi2/n\n",
    "    r,k = contingency.shape\n",
    "    return np.sqrt(phi2 / min((k-1),(r-1)))\n",
    "\n",
    "# Sample implementation for payload presence\n",
    "data['has_source_payload'] = data['sourcePayloadAsBase64'].notnull()\n",
    "print(f\"Payload Presence Correlation: {cramers_v(data['has_source_payload'], data['Label']):.3f}\")\n",
    "\n",
    "# TCP flag analysis\n",
    "tcp_flags = data['sourceTCPFlagsDescription'].fillna('NON_TCP')\n",
    "print(f\"TCP Flag Correlation: {cramers_v(tcp_flags, data['Label']):.3f}\")\n"
   ]
  },
  {
   "cell_type": "markdown",
   "metadata": {},
   "source": [
    "#### **Remove redundant columns and feature engineering**\n",
    "        1.  for missing values we used the presence flag to indicate the presence of payload\n",
    "        2.  calculate the Shannon entropy of the payload data (measure of randomness)\n",
    "        3.  calculate the length of the payload data"
   ]
  },
  {
   "cell_type": "code",
   "execution_count": 32,
   "metadata": {},
   "outputs": [],
   "source": [
    "data.drop(columns=['sourcePayloadAsUTF','destinationPayloadAsUTF'], inplace=True)\n",
    "\n",
    "# Payload feature engineering\n",
    "for direction in ['source', 'destination']:\n",
    "    # Presence flag\n",
    "    data[f'{direction}_payload_present'] = data[f'{direction}PayloadAsBase64'].notnull().astype(int)\n",
    "    \n",
    "    # Entropy calculation\n",
    "    data[f'{direction}_payload_entropy'] = data[f'{direction}PayloadAsBase64'].apply(\n",
    "        lambda x: -sum((count/len(x))*np.log2(count/len(x)) \n",
    "                      for count in pd.Series(list(x)).value_counts()) \n",
    "                      if pd.notnull(x) else 0)\n",
    "    \n",
    "    # Length calculation\n",
    "    data[f'{direction}_payload_length'] = data[f'{direction}PayloadAsBase64'].str.len().fillna(0)\n",
    "\n",
    "# TCP flag processing\n",
    "for direction in ['source', 'destination']:\n",
    "    # TCP protocol flag\n",
    "    data[f'{direction}_is_tcp'] = (data['protocolName'] == 'TCP').astype(int)\n",
    "    \n",
    "    # Flag combinations\n",
    "    data[f'{direction}_tcp_flags'] = data[f'{direction}TCPFlagsDescription'].fillna('NON_TCP')\n",
    "    \n",
    "    # SYN flag counter\n",
    "    data[f'{direction}_syn_count'] = data[f'{direction}TCPFlagsDescription'].str.count('SYN').fillna(0)\n"
   ]
  },
  {
   "cell_type": "code",
   "execution_count": 33,
   "metadata": {},
   "outputs": [],
   "source": [
    "data.drop(\n",
    "    columns=[\n",
    "        'sourcePayloadAsBase64',\n",
    "        'destinationPayloadAsBase64'\n",
    "    ], \n",
    "    inplace=True\n",
    ")"
   ]
  },
  {
   "cell_type": "code",
   "execution_count": 34,
   "metadata": {},
   "outputs": [],
   "source": [
    "data['sourceTCPFlagsDescription'] = data['sourceTCPFlagsDescription'].fillna('NON_TCP')\n",
    "data['destinationTCPFlagsDescription'] = data['destinationTCPFlagsDescription'].fillna('NON_TCP')"
   ]
  },
  {
   "cell_type": "code",
   "execution_count": 35,
   "metadata": {},
   "outputs": [
    {
     "name": "stdout",
     "output_type": "stream",
     "text": [
      "<class 'pandas.core.frame.DataFrame'>\n",
      "RangeIndex: 171380 entries, 0 to 171379\n",
      "Data columns (total 30 columns):\n",
      " #   Column                          Non-Null Count   Dtype  \n",
      "---  ------                          --------------   -----  \n",
      " 0   generated                       171380 non-null  object \n",
      " 1   appName                         171380 non-null  object \n",
      " 2   totalSourceBytes                171380 non-null  int64  \n",
      " 3   totalDestinationBytes           171380 non-null  int64  \n",
      " 4   totalDestinationPackets         171380 non-null  int64  \n",
      " 5   totalSourcePackets              171380 non-null  int64  \n",
      " 6   direction                       171380 non-null  object \n",
      " 7   sourceTCPFlagsDescription       171380 non-null  object \n",
      " 8   destinationTCPFlagsDescription  171380 non-null  object \n",
      " 9   source                          171380 non-null  object \n",
      " 10  protocolName                    171380 non-null  object \n",
      " 11  sourcePort                      171380 non-null  int64  \n",
      " 12  destination                     171380 non-null  object \n",
      " 13  destinationPort                 171380 non-null  int64  \n",
      " 14  startDateTime                   171380 non-null  object \n",
      " 15  stopDateTime                    171380 non-null  object \n",
      " 16  Label                           171380 non-null  object \n",
      " 17  has_source_payload              171380 non-null  bool   \n",
      " 18  source_payload_present          171380 non-null  int64  \n",
      " 19  source_payload_entropy          171380 non-null  float64\n",
      " 20  source_payload_length           171380 non-null  float64\n",
      " 21  destination_payload_present     171380 non-null  int64  \n",
      " 22  destination_payload_entropy     171380 non-null  float64\n",
      " 23  destination_payload_length      171380 non-null  float64\n",
      " 24  source_is_tcp                   171380 non-null  int64  \n",
      " 25  source_tcp_flags                171380 non-null  object \n",
      " 26  source_syn_count                171380 non-null  float64\n",
      " 27  destination_is_tcp              171380 non-null  int64  \n",
      " 28  destination_tcp_flags           171380 non-null  object \n",
      " 29  destination_syn_count           171380 non-null  float64\n",
      "dtypes: bool(1), float64(6), int64(10), object(13)\n",
      "memory usage: 38.1+ MB\n"
     ]
    }
   ],
   "source": [
    "data.info()"
   ]
  },
  {
   "cell_type": "markdown",
   "metadata": {},
   "source": [
    "### **Exploratory Data Analysis**"
   ]
  },
  {
   "cell_type": "markdown",
   "metadata": {},
   "source": [
    "#### **Distribution of Normal and Attack in the data**"
   ]
  },
  {
   "cell_type": "code",
   "execution_count": 36,
   "metadata": {},
   "outputs": [
    {
     "data": {
      "text/plain": [
       "Text(0.5, 1.0, 'Normal vs Attack Distribution')"
      ]
     },
     "execution_count": 36,
     "metadata": {},
     "output_type": "execute_result"
    },
    {
     "data": {
      "image/png": "[encoded data removed]",
      "text/plain": [
       "<Figure size 640x480 with 1 Axes>"
      ]
     },
     "metadata": {},
     "output_type": "display_data"
    }
   ],
   "source": [
    "sns.countplot(x='Label', data=data)\n",
    "plt.title('Normal vs Attack Distribution')"
   ]
  },
  {
   "cell_type": "markdown",
   "metadata": {},
   "source": [
    "#### **Time (hours) when the attacks are more likely to occur**"
   ]
  },
  {
   "cell_type": "code",
   "execution_count": 37,
   "metadata": {},
   "outputs": [
    {
     "data": {
      "text/plain": [
       "<Axes: xlabel='hour', ylabel='Count'>"
      ]
     },
     "execution_count": 37,
     "metadata": {},
     "output_type": "execute_result"
    },
    {
     "data": {
      "image/png": "[encoded data removed]",
      "text/plain": [
       "<Figure size 640x480 with 1 Axes>"
      ]
     },
     "metadata": {},
     "output_type": "display_data"
    }
   ],
   "source": [
    "data['hour'] = pd.to_datetime(data['startDateTime']).dt.hour\n",
    "sns.histplot(data=data, x='hour', hue='Label', multiple='stack')"
   ]
  },
  {
   "cell_type": "markdown",
   "metadata": {},
   "source": [
    "#### **Risk Score for each Protocol**\n",
    "    icmp_ip and tcp_ip have the highest risk score: 8.828% and 3.042% respectively"
   ]
  },
  {
   "cell_type": "code",
   "execution_count": 38,
   "metadata": {},
   "outputs": [
    {
     "data": {
      "text/html": [
       "<div>\n",
       "<style scoped>\n",
       "    .dataframe tbody tr th:only-of-type {\n",
       "        vertical-align: middle;\n",
       "    }\n",
       "\n",
       "    .dataframe tbody tr th {\n",
       "        vertical-align: top;\n",
       "    }\n",
       "\n",
       "    .dataframe thead th {\n",
       "        text-align: right;\n",
       "    }\n",
       "</style>\n",
       "<table border=\"1\" class=\"dataframe\">\n",
       "  <thead>\n",
       "    <tr style=\"text-align: right;\">\n",
       "      <th>Label</th>\n",
       "      <th>Attack</th>\n",
       "      <th>Normal</th>\n",
       "      <th>risk_score</th>\n",
       "    </tr>\n",
       "    <tr>\n",
       "      <th>protocolName</th>\n",
       "      <th></th>\n",
       "      <th></th>\n",
       "      <th></th>\n",
       "    </tr>\n",
       "  </thead>\n",
       "  <tbody>\n",
       "    <tr>\n",
       "      <th>icmp_ip</th>\n",
       "      <td>0.088283</td>\n",
       "      <td>0.911717</td>\n",
       "      <td>8.828250</td>\n",
       "    </tr>\n",
       "    <tr>\n",
       "      <th>tcp_ip</th>\n",
       "      <td>0.030426</td>\n",
       "      <td>0.969574</td>\n",
       "      <td>3.042568</td>\n",
       "    </tr>\n",
       "    <tr>\n",
       "      <th>igmp</th>\n",
       "      <td>NaN</td>\n",
       "      <td>1.000000</td>\n",
       "      <td>NaN</td>\n",
       "    </tr>\n",
       "    <tr>\n",
       "      <th>ip</th>\n",
       "      <td>NaN</td>\n",
       "      <td>1.000000</td>\n",
       "      <td>NaN</td>\n",
       "    </tr>\n",
       "    <tr>\n",
       "      <th>udp_ip</th>\n",
       "      <td>NaN</td>\n",
       "      <td>1.000000</td>\n",
       "      <td>NaN</td>\n",
       "    </tr>\n",
       "  </tbody>\n",
       "</table>\n",
       "</div>"
      ],
      "text/plain": [
       "Label           Attack    Normal  risk_score\n",
       "protocolName                                \n",
       "icmp_ip       0.088283  0.911717    8.828250\n",
       "tcp_ip        0.030426  0.969574    3.042568\n",
       "igmp               NaN  1.000000         NaN\n",
       "ip                 NaN  1.000000         NaN\n",
       "udp_ip             NaN  1.000000         NaN"
      ]
     },
     "execution_count": 38,
     "metadata": {},
     "output_type": "execute_result"
    }
   ],
   "source": [
    "protocol_risk = data.groupby('protocolName')['Label'].value_counts(normalize=True).unstack()\n",
    "protocol_risk['risk_score'] = protocol_risk['Attack'] * 100\n",
    "protocol_risk.sort_values('risk_score', ascending=False, inplace=True)\n",
    "protocol_risk"
   ]
  },
  {
   "cell_type": "markdown",
   "metadata": {},
   "source": [
    "#### **Most suspicious destination ports**\n",
    "    80 and 443 are the most suspicious destination ports with chance of attack 87.474% and 3.688% respectively "
   ]
  },
  {
   "cell_type": "code",
   "execution_count": 70,
   "metadata": {},
   "outputs": [
    {
     "data": {
      "text/plain": [
       "destinationPort\n",
       "80      87.474666\n",
       "443      3.688691\n",
       "4444     2.513174\n",
       "0        2.229428\n",
       "445      1.175517\n",
       "143      1.134982\n",
       "5555     0.932306\n",
       "22       0.364816\n",
       "25       0.243210\n",
       "110      0.243210\n",
       "Name: count, dtype: float64"
      ]
     },
     "execution_count": 70,
     "metadata": {},
     "output_type": "execute_result"
    }
   ],
   "source": [
    "suspicious_ports = data[data['Label']=='Attack']['destinationPort'].value_counts().head(10)\n",
    "suspicious_ports = (suspicious_ports/suspicious_ports.sum())*100\n",
    "suspicious_ports"
   ]
  },
  {
   "cell_type": "markdown",
   "metadata": {},
   "source": [
    "#### **Probability Density of Source Payload Entropy for Normal and Attack**\n",
    "    The distribution of entropy for normal traffic vs the attack traffic is different. The entropy of the attack traffic is more spread out than the normal traffic."
   ]
  },
  {
   "cell_type": "code",
   "execution_count": 40,
   "metadata": {},
   "outputs": [
    {
     "data": {
      "text/plain": [
       "<Axes: xlabel='source_payload_entropy', ylabel='Density'>"
      ]
     },
     "execution_count": 40,
     "metadata": {},
     "output_type": "execute_result"
    },
    {
     "data": {
      "image/png": "[encoded data removed]",
      "text/plain": [
       "<Figure size 1200x600 with 1 Axes>"
      ]
     },
     "metadata": {},
     "output_type": "display_data"
    }
   ],
   "source": [
    "plt.figure(figsize=(12,6))\n",
    "sns.kdeplot(data[data['Label']=='Normal']['source_payload_entropy'], label='Normal')\n",
    "sns.kdeplot(data[data['Label']=='Attack']['source_payload_entropy'], label='Attack')"
   ]
  },
  {
   "cell_type": "markdown",
   "metadata": {},
   "source": [
    "#### **The distribution of the length of the payload for normal and attack traffic**\n",
    "    "
   ]
  },
  {
   "cell_type": "code",
   "execution_count": 41,
   "metadata": {},
   "outputs": [
    {
     "data": {
      "text/html": [
       "<div>\n",
       "<style scoped>\n",
       "    .dataframe tbody tr th:only-of-type {\n",
       "        vertical-align: middle;\n",
       "    }\n",
       "\n",
       "    .dataframe tbody tr th {\n",
       "        vertical-align: top;\n",
       "    }\n",
       "\n",
       "    .dataframe thead th {\n",
       "        text-align: right;\n",
       "    }\n",
       "</style>\n",
       "<table border=\"1\" class=\"dataframe\">\n",
       "  <thead>\n",
       "    <tr style=\"text-align: right;\">\n",
       "      <th></th>\n",
       "      <th>count</th>\n",
       "      <th>mean</th>\n",
       "      <th>std</th>\n",
       "      <th>min</th>\n",
       "      <th>25%</th>\n",
       "      <th>50%</th>\n",
       "      <th>75%</th>\n",
       "      <th>max</th>\n",
       "    </tr>\n",
       "    <tr>\n",
       "      <th>Label</th>\n",
       "      <th></th>\n",
       "      <th></th>\n",
       "      <th></th>\n",
       "      <th></th>\n",
       "      <th></th>\n",
       "      <th></th>\n",
       "      <th></th>\n",
       "      <th></th>\n",
       "    </tr>\n",
       "  </thead>\n",
       "  <tbody>\n",
       "    <tr>\n",
       "      <th>Attack</th>\n",
       "      <td>3776.0</td>\n",
       "      <td>5.710805</td>\n",
       "      <td>81.541656</td>\n",
       "      <td>0.0</td>\n",
       "      <td>0.0</td>\n",
       "      <td>0.0</td>\n",
       "      <td>0.0</td>\n",
       "      <td>1368.0</td>\n",
       "    </tr>\n",
       "    <tr>\n",
       "      <th>Normal</th>\n",
       "      <td>167604.0</td>\n",
       "      <td>63.028585</td>\n",
       "      <td>138.758802</td>\n",
       "      <td>0.0</td>\n",
       "      <td>0.0</td>\n",
       "      <td>8.0</td>\n",
       "      <td>88.0</td>\n",
       "      <td>2732.0</td>\n",
       "    </tr>\n",
       "  </tbody>\n",
       "</table>\n",
       "</div>"
      ],
      "text/plain": [
       "           count       mean         std  min  25%  50%   75%     max\n",
       "Label                                                               \n",
       "Attack    3776.0   5.710805   81.541656  0.0  0.0  0.0   0.0  1368.0\n",
       "Normal  167604.0  63.028585  138.758802  0.0  0.0  8.0  88.0  2732.0"
      ]
     },
     "execution_count": 41,
     "metadata": {},
     "output_type": "execute_result"
    }
   ],
   "source": [
    "data.groupby('Label')['source_payload_length'].describe()"
   ]
  },
  {
   "cell_type": "markdown",
   "metadata": {},
   "source": [
    "#### **Distribution of the average number of bytes per for normal and attack traffic**"
   ]
  },
  {
   "cell_type": "code",
   "execution_count": 42,
   "metadata": {},
   "outputs": [
    {
     "data": {
      "image/png": "[encoded data removed]",
      "text/plain": [
       "<Figure size 1600x600 with 2 Axes>"
      ]
     },
     "metadata": {},
     "output_type": "display_data"
    }
   ],
   "source": [
    "data['bytes_per_packet'] = data['totalSourceBytes'] / data['totalSourcePackets']\n",
    "\n",
    "fig, axes = plt.subplots(1, 2, figsize=(16, 6))\n",
    "\n",
    "sns.kdeplot(data[data['Label'] == 'Normal']['bytes_per_packet'], label='Normal', ax=axes[0])\n",
    "sns.kdeplot(data[data['Label'] == 'Attack']['bytes_per_packet'], label='Attack', ax=axes[0])\n",
    "axes[0].set_title('KDE Plot of Bytes per Packet')\n",
    "axes[0].legend()\n",
    "\n",
    "sns.boxplot(x='Label', y='bytes_per_packet', data=data, ax=axes[1])\n",
    "axes[1].set_title('Boxplot of Bytes per Packet by Label')\n",
    "\n",
    "plt.tight_layout()\n",
    "plt.show()"
   ]
  },
  {
   "cell_type": "markdown",
   "metadata": {},
   "source": [
    "#### **Risk Score for each direction of the traffic**\n",
    "    L2L is the most risky direction among all with a risk score of 16.69%"
   ]
  },
  {
   "cell_type": "code",
   "execution_count": 73,
   "metadata": {},
   "outputs": [
    {
     "name": "stderr",
     "output_type": "stream",
     "text": [
      "/var/folders/xq/ccxq36hs37q4jnq3zfl0gtsr0000gn/T/ipykernel_47677/679698998.py:1: FutureWarning: The default value of observed=False is deprecated and will change to observed=True in a future version of pandas. Specify observed=False to silence this warning and retain the current behavior\n",
      "  direction_risk = data.pivot_table(index='direction', columns='Label', values='source', aggfunc='count')\n"
     ]
    },
    {
     "data": {
      "text/html": [
       "<div>\n",
       "<style scoped>\n",
       "    .dataframe tbody tr th:only-of-type {\n",
       "        vertical-align: middle;\n",
       "    }\n",
       "\n",
       "    .dataframe tbody tr th {\n",
       "        vertical-align: top;\n",
       "    }\n",
       "\n",
       "    .dataframe thead th {\n",
       "        text-align: right;\n",
       "    }\n",
       "</style>\n",
       "<table border=\"1\" class=\"dataframe\">\n",
       "  <thead>\n",
       "    <tr style=\"text-align: right;\">\n",
       "      <th>Label</th>\n",
       "      <th>Attack</th>\n",
       "      <th>Normal</th>\n",
       "      <th>risk_score</th>\n",
       "    </tr>\n",
       "    <tr>\n",
       "      <th>direction</th>\n",
       "      <th></th>\n",
       "      <th></th>\n",
       "      <th></th>\n",
       "    </tr>\n",
       "  </thead>\n",
       "  <tbody>\n",
       "    <tr>\n",
       "      <th>L2L</th>\n",
       "      <td>3640</td>\n",
       "      <td>21804</td>\n",
       "      <td>16.694185</td>\n",
       "    </tr>\n",
       "    <tr>\n",
       "      <th>L2R</th>\n",
       "      <td>131</td>\n",
       "      <td>143996</td>\n",
       "      <td>0.090975</td>\n",
       "    </tr>\n",
       "    <tr>\n",
       "      <th>R2L</th>\n",
       "      <td>5</td>\n",
       "      <td>1593</td>\n",
       "      <td>0.313873</td>\n",
       "    </tr>\n",
       "    <tr>\n",
       "      <th>R2R</th>\n",
       "      <td>0</td>\n",
       "      <td>211</td>\n",
       "      <td>0.000000</td>\n",
       "    </tr>\n",
       "  </tbody>\n",
       "</table>\n",
       "</div>"
      ],
      "text/plain": [
       "Label      Attack  Normal  risk_score\n",
       "direction                            \n",
       "L2L          3640   21804   16.694185\n",
       "L2R           131  143996    0.090975\n",
       "R2L             5    1593    0.313873\n",
       "R2R             0     211    0.000000"
      ]
     },
     "execution_count": 73,
     "metadata": {},
     "output_type": "execute_result"
    }
   ],
   "source": [
    "direction_risk = data.pivot_table(index='direction', columns='Label', values='source', aggfunc='count')\n",
    "direction_risk['risk_score'] = (direction_risk['Attack'] / direction_risk['Normal'])*100\n",
    "direction_risk"
   ]
  },
  {
   "cell_type": "markdown",
   "metadata": {},
   "source": [
    "#### **Cramer's V correlation matrix**\n",
    "    Determines the strength of association between two categorical variables. It is based on the Chi-squared statistic and provides a value between 0 and 1\n",
    "    \n",
    "$$\n",
    "V = \\sqrt{\\frac{\\chi^2}{n \\cdot (k - 1)}}\n",
    "$$\n",
    "where:\n",
    "$$\n",
    "\\chi^2 = \\sum \\frac{(O - E)^2}{E}\n",
    "$$\n",
    "    ( O ): Observed frequency (actual count in the data).\n",
    "    ( E ): Expected frequency (calculated assuming no association between variables).\n",
    "    ( n ): Total number of observations.\n",
    "    ( k ): Number of categories in the variable."
   ]
  },
  {
   "cell_type": "code",
   "execution_count": 44,
   "metadata": {},
   "outputs": [
    {
     "data": {
      "text/plain": [
       "appName                           0.552821\n",
       "direction                         0.344269\n",
       "sourceTCPFlagsDescription         0.862863\n",
       "destinationTCPFlagsDescription    0.745656\n",
       "protocolName                      0.097178\n",
       "source_tcp_flags                  0.862863\n",
       "destination_tcp_flags             0.745656\n",
       "dtype: float64"
      ]
     },
     "execution_count": 44,
     "metadata": {},
     "output_type": "execute_result"
    }
   ],
   "source": [
    "def cramers_v(feature):\n",
    "    contingency = pd.crosstab(data[feature], data['Label'])\n",
    "    chi2 = chi2_contingency(contingency)[0]\n",
    "    n = contingency.sum().sum()\n",
    "    return np.sqrt(chi2 / (n * (min(contingency.shape)-1)))\n",
    "\n",
    "corr_matrix = pd.Series({\n",
    "    'appName': cramers_v('appName'),\n",
    "    'direction': cramers_v('direction'),\n",
    "    'sourceTCPFlagsDescription': cramers_v('sourceTCPFlagsDescription'),\n",
    "    'destinationTCPFlagsDescription': cramers_v('destinationTCPFlagsDescription'),\n",
    "    'protocolName': cramers_v('protocolName'),\n",
    "    'source_tcp_flags': cramers_v('source_tcp_flags'),\n",
    "    'destination_tcp_flags': cramers_v('destination_tcp_flags')\n",
    "})\n",
    "corr_matrix"
   ]
  },
  {
   "cell_type": "markdown",
   "metadata": {},
   "source": [
    "#### **Using ordinal encoding for Protocal and TCP Flag**"
   ]
  },
  {
   "cell_type": "code",
   "execution_count": 45,
   "metadata": {},
   "outputs": [],
   "source": [
    "protocol_encoder = OrdinalEncoder().fit(data[['protocolName']])\n",
    "tcp_flag_encoder = OneHotEncoder(sparse_output=False, handle_unknown='ignore').fit(data[['source_tcp_flags']])\n",
    "data['protocol_encoded'] = protocol_encoder.transform(data[['protocolName']])\n",
    "tcp_features = tcp_flag_encoder.transform(data[['source_tcp_flags']])"
   ]
  },
  {
   "cell_type": "markdown",
   "metadata": {},
   "source": [
    "#### **Creating a new feature Duration (in seconds) to replace StartDateTime and StopDateTime**"
   ]
  },
  {
   "cell_type": "code",
   "execution_count": 46,
   "metadata": {},
   "outputs": [],
   "source": [
    "data['duration'] = (pd.to_datetime(data['stopDateTime']) - \n",
    "                 pd.to_datetime(data['startDateTime'])).dt.total_seconds()\n",
    "data.drop(['startDateTime','stopDateTime'], axis=1, inplace=True)"
   ]
  },
  {
   "cell_type": "markdown",
   "metadata": {},
   "source": [
    "### **Feature Engineering**"
   ]
  },
  {
   "cell_type": "code",
   "execution_count": 47,
   "metadata": {},
   "outputs": [],
   "source": [
    "X = data.drop(columns=['Label'])\n",
    "y = data['Label']"
   ]
  },
  {
   "cell_type": "code",
   "execution_count": 48,
   "metadata": {},
   "outputs": [
    {
     "data": {
      "text/plain": [
       "0         0\n",
       "1         0\n",
       "2         0\n",
       "3         0\n",
       "4         0\n",
       "         ..\n",
       "171375    0\n",
       "171376    0\n",
       "171377    0\n",
       "171378    0\n",
       "171379    0\n",
       "Name: Label, Length: 171380, dtype: int64"
      ]
     },
     "execution_count": 48,
     "metadata": {},
     "output_type": "execute_result"
    }
   ],
   "source": [
    "y = y.map({'Normal': 0, 'Attack': 1})\n",
    "y"
   ]
  },
  {
   "cell_type": "markdown",
   "metadata": {},
   "source": [
    "#### **Converting all the object data types to cataegorical data types**"
   ]
  },
  {
   "cell_type": "code",
   "execution_count": 49,
   "metadata": {},
   "outputs": [],
   "source": [
    "categorical_cols = [\n",
    "    'generated', 'appName', 'direction', \n",
    "    'sourceTCPFlagsDescription', 'destinationTCPFlagsDescription',\n",
    "    'source', 'protocolName', 'destination', \n",
    "    'source_tcp_flags', 'destination_tcp_flags'\n",
    "]\n",
    "\n",
    "for col in categorical_cols:\n",
    "    data[col] = data[col].astype('category')"
   ]
  },
  {
   "cell_type": "code",
   "execution_count": 50,
   "metadata": {},
   "outputs": [],
   "source": [
    "X = data.drop(columns=['Label'])\n",
    "y = data['Label']\n",
    "\n",
    "y = y.map({'Normal': 0, 'Attack': 1})"
   ]
  },
  {
   "cell_type": "code",
   "execution_count": 51,
   "metadata": {},
   "outputs": [
    {
     "name": "stdout",
     "output_type": "stream",
     "text": [
      "<class 'pandas.core.frame.DataFrame'>\n",
      "RangeIndex: 171380 entries, 0 to 171379\n",
      "Data columns (total 31 columns):\n",
      " #   Column                          Non-Null Count   Dtype   \n",
      "---  ------                          --------------   -----   \n",
      " 0   generated                       171380 non-null  category\n",
      " 1   appName                         171380 non-null  category\n",
      " 2   totalSourceBytes                171380 non-null  int64   \n",
      " 3   totalDestinationBytes           171380 non-null  int64   \n",
      " 4   totalDestinationPackets         171380 non-null  int64   \n",
      " 5   totalSourcePackets              171380 non-null  int64   \n",
      " 6   direction                       171380 non-null  category\n",
      " 7   sourceTCPFlagsDescription       171380 non-null  category\n",
      " 8   destinationTCPFlagsDescription  171380 non-null  category\n",
      " 9   source                          171380 non-null  category\n",
      " 10  protocolName                    171380 non-null  category\n",
      " 11  sourcePort                      171380 non-null  int64   \n",
      " 12  destination                     171380 non-null  category\n",
      " 13  destinationPort                 171380 non-null  int64   \n",
      " 14  has_source_payload              171380 non-null  bool    \n",
      " 15  source_payload_present          171380 non-null  int64   \n",
      " 16  source_payload_entropy          171380 non-null  float64 \n",
      " 17  source_payload_length           171380 non-null  float64 \n",
      " 18  destination_payload_present     171380 non-null  int64   \n",
      " 19  destination_payload_entropy     171380 non-null  float64 \n",
      " 20  destination_payload_length      171380 non-null  float64 \n",
      " 21  source_is_tcp                   171380 non-null  int64   \n",
      " 22  source_tcp_flags                171380 non-null  category\n",
      " 23  source_syn_count                171380 non-null  float64 \n",
      " 24  destination_is_tcp              171380 non-null  int64   \n",
      " 25  destination_tcp_flags           171380 non-null  category\n",
      " 26  destination_syn_count           171380 non-null  float64 \n",
      " 27  hour                            171380 non-null  int32   \n",
      " 28  bytes_per_packet                170942 non-null  float64 \n",
      " 29  protocol_encoded                171380 non-null  float64 \n",
      " 30  duration                        171380 non-null  float64 \n",
      "dtypes: bool(1), category(10), float64(9), int32(1), int64(10)\n",
      "memory usage: 28.0 MB\n"
     ]
    }
   ],
   "source": [
    "X.info()"
   ]
  },
  {
   "cell_type": "markdown",
   "metadata": {},
   "source": [
    "*Using XGBClassifier to get the feature importance and selecting the important features out of them (with threshold score of >0.75)*"
   ]
  },
  {
   "cell_type": "code",
   "execution_count": 52,
   "metadata": {},
   "outputs": [],
   "source": [
    "xgb = XGBClassifier(enable_categorical=True).fit(X, y)\n",
    "importance_scores = xgb.feature_importances_\n",
    "final_features = np.where(importance_scores > np.quantile(importance_scores, 0.75))[0]"
   ]
  },
  {
   "cell_type": "code",
   "execution_count": 53,
   "metadata": {},
   "outputs": [
    {
     "data": {
      "text/plain": [
       "array([ 1,  2,  6,  7,  9, 12, 27, 29])"
      ]
     },
     "execution_count": 53,
     "metadata": {},
     "output_type": "execute_result"
    }
   ],
   "source": [
    "final_features"
   ]
  },
  {
   "cell_type": "code",
   "execution_count": 54,
   "metadata": {},
   "outputs": [
    {
     "name": "stdout",
     "output_type": "stream",
     "text": [
      "<class 'pandas.core.frame.DataFrame'>\n",
      "RangeIndex: 171380 entries, 0 to 171379\n",
      "Data columns (total 8 columns):\n",
      " #   Column                     Non-Null Count   Dtype   \n",
      "---  ------                     --------------   -----   \n",
      " 0   appName                    171380 non-null  category\n",
      " 1   totalSourceBytes           171380 non-null  int64   \n",
      " 2   direction                  171380 non-null  category\n",
      " 3   sourceTCPFlagsDescription  171380 non-null  category\n",
      " 4   source                     171380 non-null  category\n",
      " 5   destination                171380 non-null  category\n",
      " 6   hour                       171380 non-null  int32   \n",
      " 7   protocol_encoded           171380 non-null  float64 \n",
      "dtypes: category(5), float64(1), int32(1), int64(1)\n",
      "memory usage: 4.7 MB\n"
     ]
    }
   ],
   "source": [
    "X_data = X.iloc[:, final_features]\n",
    "X_data.info()"
   ]
  },
  {
   "cell_type": "markdown",
   "metadata": {},
   "source": [
    "#### **Splitting the data into train and test**"
   ]
  },
  {
   "cell_type": "code",
   "execution_count": 55,
   "metadata": {},
   "outputs": [],
   "source": [
    "X_train, X_test, y_train, y_test = train_test_split(X_data, y, test_size=0.2, random_state=42)"
   ]
  },
  {
   "cell_type": "markdown",
   "metadata": {},
   "source": [
    "### **Training on Model 1: XGBClassifier**\n",
    "    Accuracy: 0.999\n",
    "    Precision: 0.999\n",
    "    Recall: 0.999\n",
    "    F1 Score: 0.999\n",
    "    AUC: 0.999"
   ]
  },
  {
   "cell_type": "markdown",
   "metadata": {},
   "source": [
    "#### **Using grid search to find the best hyperparameters and then training the model using those hyperparameters**"
   ]
  },
  {
   "cell_type": "code",
   "execution_count": 56,
   "metadata": {},
   "outputs": [
    {
     "data": {
      "text/plain": [
       "{'learning_rate': 0.1, 'max_depth': 7, 'n_estimators': 200}"
      ]
     },
     "execution_count": 56,
     "metadata": {},
     "output_type": "execute_result"
    }
   ],
   "source": [
    "param_grid = {\n",
    "    'max_depth': [3, 5, 7],\n",
    "    'n_estimators': [50, 100, 200, 300, 500, 1000],\n",
    "    'learning_rate': [0.01, 0.1, 0.3]\n",
    "}\n",
    "\n",
    "xgb = XGBClassifier(enable_categorical=True)\n",
    "grid_search = GridSearchCV(xgb, param_grid, cv=5, n_jobs=-1)\n",
    "grid_search.fit(X_train, y_train)\n",
    "\n",
    "grid_search.best_params_"
   ]
  },
  {
   "cell_type": "markdown",
   "metadata": {},
   "source": [
    "#### **Heatmap of the confusion matrix**\n",
    "    Out of 33492 normal labelled samples all are correctly classified as normal and out of 784 attack labelled samples 783 are correctly classified as attack and 1 is misclassified as normal"
   ]
  },
  {
   "cell_type": "code",
   "execution_count": 57,
   "metadata": {},
   "outputs": [
    {
     "name": "stdout",
     "output_type": "stream",
     "text": [
      "              precision    recall  f1-score   support\n",
      "\n",
      "           0       1.00      1.00      1.00     33492\n",
      "           1       1.00      1.00      1.00       784\n",
      "\n",
      "    accuracy                           1.00     34276\n",
      "   macro avg       1.00      1.00      1.00     34276\n",
      "weighted avg       1.00      1.00      1.00     34276\n",
      "\n"
     ]
    },
    {
     "data": {
      "image/png": "[encoded data removed]",
      "text/plain": [
       "<Figure size 640x480 with 2 Axes>"
      ]
     },
     "metadata": {},
     "output_type": "display_data"
    }
   ],
   "source": [
    "y_pred = grid_search.predict(X_test)\n",
    "print(classification_report(y_test, y_pred))\n",
    "\n",
    "conf_matrix = confusion_matrix(y_test, y_pred)\n",
    "sns.heatmap(conf_matrix, annot=True, fmt='d')\n",
    "plt.xlabel('Predicted')\n",
    "plt.ylabel('Actual')\n",
    "plt.title('Confusion Matrix')\n",
    "plt.show()"
   ]
  },
  {
   "cell_type": "markdown",
   "metadata": {},
   "source": [
    "#### **ROC Curve**\n",
    "    The ROC curve is a graphical representation of the true positive rate against the false positive rate for the different possible cutpoints of a diagnostic test."
   ]
  },
  {
   "cell_type": "code",
   "execution_count": 58,
   "metadata": {},
   "outputs": [
    {
     "data": {
      "image/png": "[encoded data removed]",
      "text/plain": [
       "<Figure size 640x480 with 1 Axes>"
      ]
     },
     "metadata": {},
     "output_type": "display_data"
    }
   ],
   "source": [
    "y_pred_proba = grid_search.predict_proba(X_test)[:, 1]\n",
    "roc_auc = roc_auc_score(y_test, y_pred_proba)\n",
    "\n",
    "fpr, tpr, _ = roc_curve(y_test, y_pred_proba)\n",
    "plt.plot(fpr, tpr, label=f'AUC: {roc_auc:.2f}')\n",
    "plt.plot([0, 1], [0, 1], linestyle='--', color='red')\n",
    "plt.xlabel('False Positive Rate')\n",
    "plt.ylabel('True Positive Rate')\n",
    "plt.title('ROC Curve')\n",
    "plt.legend()\n",
    "plt.show()\n"
   ]
  },
  {
   "cell_type": "markdown",
   "metadata": {},
   "source": [
    "### **Training on Model 2: Light GBM Classifier**\n",
    "    Accuracy: 0.999\n",
    "    Precision: 0.999\n",
    "    Recall: 0.999\n",
    "    F1 Score: 0.999\n",
    "    AUC: 0.999"
   ]
  },
  {
   "cell_type": "markdown",
   "metadata": {},
   "source": [
    "#### **Using grid search to find the best hyperparameters and then training the model using those hyperparameters**"
   ]
  },
  {
   "cell_type": "code",
   "execution_count": 66,
   "metadata": {},
   "outputs": [
    {
     "data": {
      "text/html": [
       "<style>#sk-container-id-1 {\n",
       "  /* Definition of color scheme common for light and dark mode */\n",
       "  --sklearn-color-text: black;\n",
       "  --sklearn-color-line: gray;\n",
       "  /* Definition of color scheme for unfitted estimators */\n",
       "  --sklearn-color-unfitted-level-0: #fff5e6;\n",
       "  --sklearn-color-unfitted-level-1: #f6e4d2;\n",
       "  --sklearn-color-unfitted-level-2: #ffe0b3;\n",
       "  --sklearn-color-unfitted-level-3: chocolate;\n",
       "  /* Definition of color scheme for fitted estimators */\n",
       "  --sklearn-color-fitted-level-0: #f0f8ff;\n",
       "  --sklearn-color-fitted-level-1: #d4ebff;\n",
       "  --sklearn-color-fitted-level-2: #b3dbfd;\n",
       "  --sklearn-color-fitted-level-3: cornflowerblue;\n",
       "\n",
       "  /* Specific color for light theme */\n",
       "  --sklearn-color-text-on-default-background: var(--sg-text-color, var(--theme-code-foreground, var(--jp-content-font-color1, black)));\n",
       "  --sklearn-color-background: var(--sg-background-color, var(--theme-background, var(--jp-layout-color0, white)));\n",
       "  --sklearn-color-border-box: var(--sg-text-color, var(--theme-code-foreground, var(--jp-content-font-color1, black)));\n",
       "  --sklearn-color-icon: #696969;\n",
       "\n",
       "  @media (prefers-color-scheme: dark) {\n",
       "    /* Redefinition of color scheme for dark theme */\n",
       "    --sklearn-color-text-on-default-background: var(--sg-text-color, var(--theme-code-foreground, var(--jp-content-font-color1, white)));\n",
       "    --sklearn-color-background: var(--sg-background-color, var(--theme-background, var(--jp-layout-color0, #111)));\n",
       "    --sklearn-color-border-box: var(--sg-text-color, var(--theme-code-foreground, var(--jp-content-font-color1, white)));\n",
       "    --sklearn-color-icon: #878787;\n",
       "  }\n",
       "}\n",
       "\n",
       "#sk-container-id-1 {\n",
       "  color: var(--sklearn-color-text);\n",
       "}\n",
       "\n",
       "#sk-container-id-1 pre {\n",
       "  padding: 0;\n",
       "}\n",
       "\n",
       "#sk-container-id-1 input.sk-hidden--visually {\n",
       "  border: 0;\n",
       "  clip: rect(1px 1px 1px 1px);\n",
       "  clip: rect(1px, 1px, 1px, 1px);\n",
       "  height: 1px;\n",
       "  margin: -1px;\n",
       "  overflow: hidden;\n",
       "  padding: 0;\n",
       "  position: absolute;\n",
       "  width: 1px;\n",
       "}\n",
       "\n",
       "#sk-container-id-1 div.sk-dashed-wrapped {\n",
       "  border: 1px dashed var(--sklearn-color-line);\n",
       "  margin: 0 0.4em 0.5em 0.4em;\n",
       "  box-sizing: border-box;\n",
       "  padding-bottom: 0.4em;\n",
       "  background-color: var(--sklearn-color-background);\n",
       "}\n",
       "\n",
       "#sk-container-id-1 div.sk-container {\n",
       "  /* jupyter's `normalize.less` sets `[hidden] { display: none; }`\n",
       "     but bootstrap.min.css set `[hidden] { display: none !important; }`\n",
       "     so we also need the `!important` here to be able to override the\n",
       "     default hidden behavior on the sphinx rendered scikit-learn.org.\n",
       "     See: https://github.com/scikit-learn/scikit-learn/issues/21755 */\n",
       "  display: inline-block !important;\n",
       "  position: relative;\n",
       "}\n",
       "\n",
       "#sk-container-id-1 div.sk-text-repr-fallback {\n",
       "  display: none;\n",
       "}\n",
       "\n",
       "div.sk-parallel-item,\n",
       "div.sk-serial,\n",
       "div.sk-item {\n",
       "  /* draw centered vertical line to link estimators */\n",
       "  background-image: linear-gradient(var(--sklearn-color-text-on-default-background), var(--sklearn-color-text-on-default-background));\n",
       "  background-size: 2px 100%;\n",
       "  background-repeat: no-repeat;\n",
       "  background-position: center center;\n",
       "}\n",
       "\n",
       "/* Parallel-specific style estimator block */\n",
       "\n",
       "#sk-container-id-1 div.sk-parallel-item::after {\n",
       "  content: \"\";\n",
       "  width: 100%;\n",
       "  border-bottom: 2px solid var(--sklearn-color-text-on-default-background);\n",
       "  flex-grow: 1;\n",
       "}\n",
       "\n",
       "#sk-container-id-1 div.sk-parallel {\n",
       "  display: flex;\n",
       "  align-items: stretch;\n",
       "  justify-content: center;\n",
       "  background-color: var(--sklearn-color-background);\n",
       "  position: relative;\n",
       "}\n",
       "\n",
       "#sk-container-id-1 div.sk-parallel-item {\n",
       "  display: flex;\n",
       "  flex-direction: column;\n",
       "}\n",
       "\n",
       "#sk-container-id-1 div.sk-parallel-item:first-child::after {\n",
       "  align-self: flex-end;\n",
       "  width: 50%;\n",
       "}\n",
       "\n",
       "#sk-container-id-1 div.sk-parallel-item:last-child::after {\n",
       "  align-self: flex-start;\n",
       "  width: 50%;\n",
       "}\n",
       "\n",
       "#sk-container-id-1 div.sk-parallel-item:only-child::after {\n",
       "  width: 0;\n",
       "}\n",
       "\n",
       "/* Serial-specific style estimator block */\n",
       "\n",
       "#sk-container-id-1 div.sk-serial {\n",
       "  display: flex;\n",
       "  flex-direction: column;\n",
       "  align-items: center;\n",
       "  background-color: var(--sklearn-color-background);\n",
       "  padding-right: 1em;\n",
       "  padding-left: 1em;\n",
       "}\n",
       "\n",
       "\n",
       "/* Toggleable style: style used for estimator/Pipeline/ColumnTransformer box that is\n",
       "clickable and can be expanded/collapsed.\n",
       "- Pipeline and ColumnTransformer use this feature and define the default style\n",
       "- Estimators will overwrite some part of the style using the `sk-estimator` class\n",
       "*/\n",
       "\n",
       "/* Pipeline and ColumnTransformer style (default) */\n",
       "\n",
       "#sk-container-id-1 div.sk-toggleable {\n",
       "  /* Default theme specific background. It is overwritten whether we have a\n",
       "  specific estimator or a Pipeline/ColumnTransformer */\n",
       "  background-color: var(--sklearn-color-background);\n",
       "}\n",
       "\n",
       "/* Toggleable label */\n",
       "#sk-container-id-1 label.sk-toggleable__label {\n",
       "  cursor: pointer;\n",
       "  display: block;\n",
       "  width: 100%;\n",
       "  margin-bottom: 0;\n",
       "  padding: 0.5em;\n",
       "  box-sizing: border-box;\n",
       "  text-align: center;\n",
       "}\n",
       "\n",
       "#sk-container-id-1 label.sk-toggleable__label-arrow:before {\n",
       "  /* Arrow on the left of the label */\n",
       "  content: \"▸\";\n",
       "  float: left;\n",
       "  margin-right: 0.25em;\n",
       "  color: var(--sklearn-color-icon);\n",
       "}\n",
       "\n",
       "#sk-container-id-1 label.sk-toggleable__label-arrow:hover:before {\n",
       "  color: var(--sklearn-color-text);\n",
       "}\n",
       "\n",
       "/* Toggleable content - dropdown */\n",
       "\n",
       "#sk-container-id-1 div.sk-toggleable__content {\n",
       "  max-height: 0;\n",
       "  max-width: 0;\n",
       "  overflow: hidden;\n",
       "  text-align: left;\n",
       "  /* unfitted */\n",
       "  background-color: var(--sklearn-color-unfitted-level-0);\n",
       "}\n",
       "\n",
       "#sk-container-id-1 div.sk-toggleable__content.fitted {\n",
       "  /* fitted */\n",
       "  background-color: var(--sklearn-color-fitted-level-0);\n",
       "}\n",
       "\n",
       "#sk-container-id-1 div.sk-toggleable__content pre {\n",
       "  margin: 0.2em;\n",
       "  border-radius: 0.25em;\n",
       "  color: var(--sklearn-color-text);\n",
       "  /* unfitted */\n",
       "  background-color: var(--sklearn-color-unfitted-level-0);\n",
       "}\n",
       "\n",
       "#sk-container-id-1 div.sk-toggleable__content.fitted pre {\n",
       "  /* unfitted */\n",
       "  background-color: var(--sklearn-color-fitted-level-0);\n",
       "}\n",
       "\n",
       "#sk-container-id-1 input.sk-toggleable__control:checked~div.sk-toggleable__content {\n",
       "  /* Expand drop-down */\n",
       "  max-height: 200px;\n",
       "  max-width: 100%;\n",
       "  overflow: auto;\n",
       "}\n",
       "\n",
       "#sk-container-id-1 input.sk-toggleable__control:checked~label.sk-toggleable__label-arrow:before {\n",
       "  content: \"▾\";\n",
       "}\n",
       "\n",
       "/* Pipeline/ColumnTransformer-specific style */\n",
       "\n",
       "#sk-container-id-1 div.sk-label input.sk-toggleable__control:checked~label.sk-toggleable__label {\n",
       "  color: var(--sklearn-color-text);\n",
       "  background-color: var(--sklearn-color-unfitted-level-2);\n",
       "}\n",
       "\n",
       "#sk-container-id-1 div.sk-label.fitted input.sk-toggleable__control:checked~label.sk-toggleable__label {\n",
       "  background-color: var(--sklearn-color-fitted-level-2);\n",
       "}\n",
       "\n",
       "/* Estimator-specific style */\n",
       "\n",
       "/* Colorize estimator box */\n",
       "#sk-container-id-1 div.sk-estimator input.sk-toggleable__control:checked~label.sk-toggleable__label {\n",
       "  /* unfitted */\n",
       "  background-color: var(--sklearn-color-unfitted-level-2);\n",
       "}\n",
       "\n",
       "#sk-container-id-1 div.sk-estimator.fitted input.sk-toggleable__control:checked~label.sk-toggleable__label {\n",
       "  /* fitted */\n",
       "  background-color: var(--sklearn-color-fitted-level-2);\n",
       "}\n",
       "\n",
       "#sk-container-id-1 div.sk-label label.sk-toggleable__label,\n",
       "#sk-container-id-1 div.sk-label label {\n",
       "  /* The background is the default theme color */\n",
       "  color: var(--sklearn-color-text-on-default-background);\n",
       "}\n",
       "\n",
       "/* On hover, darken the color of the background */\n",
       "#sk-container-id-1 div.sk-label:hover label.sk-toggleable__label {\n",
       "  color: var(--sklearn-color-text);\n",
       "  background-color: var(--sklearn-color-unfitted-level-2);\n",
       "}\n",
       "\n",
       "/* Label box, darken color on hover, fitted */\n",
       "#sk-container-id-1 div.sk-label.fitted:hover label.sk-toggleable__label.fitted {\n",
       "  color: var(--sklearn-color-text);\n",
       "  background-color: var(--sklearn-color-fitted-level-2);\n",
       "}\n",
       "\n",
       "/* Estimator label */\n",
       "\n",
       "#sk-container-id-1 div.sk-label label {\n",
       "  font-family: monospace;\n",
       "  font-weight: bold;\n",
       "  display: inline-block;\n",
       "  line-height: 1.2em;\n",
       "}\n",
       "\n",
       "#sk-container-id-1 div.sk-label-container {\n",
       "  text-align: center;\n",
       "}\n",
       "\n",
       "/* Estimator-specific */\n",
       "#sk-container-id-1 div.sk-estimator {\n",
       "  font-family: monospace;\n",
       "  border: 1px dotted var(--sklearn-color-border-box);\n",
       "  border-radius: 0.25em;\n",
       "  box-sizing: border-box;\n",
       "  margin-bottom: 0.5em;\n",
       "  /* unfitted */\n",
       "  background-color: var(--sklearn-color-unfitted-level-0);\n",
       "}\n",
       "\n",
       "#sk-container-id-1 div.sk-estimator.fitted {\n",
       "  /* fitted */\n",
       "  background-color: var(--sklearn-color-fitted-level-0);\n",
       "}\n",
       "\n",
       "/* on hover */\n",
       "#sk-container-id-1 div.sk-estimator:hover {\n",
       "  /* unfitted */\n",
       "  background-color: var(--sklearn-color-unfitted-level-2);\n",
       "}\n",
       "\n",
       "#sk-container-id-1 div.sk-estimator.fitted:hover {\n",
       "  /* fitted */\n",
       "  background-color: var(--sklearn-color-fitted-level-2);\n",
       "}\n",
       "\n",
       "/* Specification for estimator info (e.g. \"i\" and \"?\") */\n",
       "\n",
       "/* Common style for \"i\" and \"?\" */\n",
       "\n",
       ".sk-estimator-doc-link,\n",
       "a:link.sk-estimator-doc-link,\n",
       "a:visited.sk-estimator-doc-link {\n",
       "  float: right;\n",
       "  font-size: smaller;\n",
       "  line-height: 1em;\n",
       "  font-family: monospace;\n",
       "  background-color: var(--sklearn-color-background);\n",
       "  border-radius: 1em;\n",
       "  height: 1em;\n",
       "  width: 1em;\n",
       "  text-decoration: none !important;\n",
       "  margin-left: 1ex;\n",
       "  /* unfitted */\n",
       "  border: var(--sklearn-color-unfitted-level-1) 1pt solid;\n",
       "  color: var(--sklearn-color-unfitted-level-1);\n",
       "}\n",
       "\n",
       ".sk-estimator-doc-link.fitted,\n",
       "a:link.sk-estimator-doc-link.fitted,\n",
       "a:visited.sk-estimator-doc-link.fitted {\n",
       "  /* fitted */\n",
       "  border: var(--sklearn-color-fitted-level-1) 1pt solid;\n",
       "  color: var(--sklearn-color-fitted-level-1);\n",
       "}\n",
       "\n",
       "/* On hover */\n",
       "div.sk-estimator:hover .sk-estimator-doc-link:hover,\n",
       ".sk-estimator-doc-link:hover,\n",
       "div.sk-label-container:hover .sk-estimator-doc-link:hover,\n",
       ".sk-estimator-doc-link:hover {\n",
       "  /* unfitted */\n",
       "  background-color: var(--sklearn-color-unfitted-level-3);\n",
       "  color: var(--sklearn-color-background);\n",
       "  text-decoration: none;\n",
       "}\n",
       "\n",
       "div.sk-estimator.fitted:hover .sk-estimator-doc-link.fitted:hover,\n",
       ".sk-estimator-doc-link.fitted:hover,\n",
       "div.sk-label-container:hover .sk-estimator-doc-link.fitted:hover,\n",
       ".sk-estimator-doc-link.fitted:hover {\n",
       "  /* fitted */\n",
       "  background-color: var(--sklearn-color-fitted-level-3);\n",
       "  color: var(--sklearn-color-background);\n",
       "  text-decoration: none;\n",
       "}\n",
       "\n",
       "/* Span, style for the box shown on hovering the info icon */\n",
       ".sk-estimator-doc-link span {\n",
       "  display: none;\n",
       "  z-index: 9999;\n",
       "  position: relative;\n",
       "  font-weight: normal;\n",
       "  right: .2ex;\n",
       "  padding: .5ex;\n",
       "  margin: .5ex;\n",
       "  width: min-content;\n",
       "  min-width: 20ex;\n",
       "  max-width: 50ex;\n",
       "  color: var(--sklearn-color-text);\n",
       "  box-shadow: 2pt 2pt 4pt #999;\n",
       "  /* unfitted */\n",
       "  background: var(--sklearn-color-unfitted-level-0);\n",
       "  border: .5pt solid var(--sklearn-color-unfitted-level-3);\n",
       "}\n",
       "\n",
       ".sk-estimator-doc-link.fitted span {\n",
       "  /* fitted */\n",
       "  background: var(--sklearn-color-fitted-level-0);\n",
       "  border: var(--sklearn-color-fitted-level-3);\n",
       "}\n",
       "\n",
       ".sk-estimator-doc-link:hover span {\n",
       "  display: block;\n",
       "}\n",
       "\n",
       "/* \"?\"-specific style due to the `<a>` HTML tag */\n",
       "\n",
       "#sk-container-id-1 a.estimator_doc_link {\n",
       "  float: right;\n",
       "  font-size: 1rem;\n",
       "  line-height: 1em;\n",
       "  font-family: monospace;\n",
       "  background-color: var(--sklearn-color-background);\n",
       "  border-radius: 1rem;\n",
       "  height: 1rem;\n",
       "  width: 1rem;\n",
       "  text-decoration: none;\n",
       "  /* unfitted */\n",
       "  color: var(--sklearn-color-unfitted-level-1);\n",
       "  border: var(--sklearn-color-unfitted-level-1) 1pt solid;\n",
       "}\n",
       "\n",
       "#sk-container-id-1 a.estimator_doc_link.fitted {\n",
       "  /* fitted */\n",
       "  border: var(--sklearn-color-fitted-level-1) 1pt solid;\n",
       "  color: var(--sklearn-color-fitted-level-1);\n",
       "}\n",
       "\n",
       "/* On hover */\n",
       "#sk-container-id-1 a.estimator_doc_link:hover {\n",
       "  /* unfitted */\n",
       "  background-color: var(--sklearn-color-unfitted-level-3);\n",
       "  color: var(--sklearn-color-background);\n",
       "  text-decoration: none;\n",
       "}\n",
       "\n",
       "#sk-container-id-1 a.estimator_doc_link.fitted:hover {\n",
       "  /* fitted */\n",
       "  background-color: var(--sklearn-color-fitted-level-3);\n",
       "}\n",
       "</style><div id=\"sk-container-id-1\" class=\"sk-top-container\"><div class=\"sk-text-repr-fallback\"><pre>GridSearchCV(cv=5, estimator=LGBMClassifier(verbose=-1), n_jobs=-1,\n",
       "             param_grid={&#x27;learning_rate&#x27;: [0.01, 0.1, 0.3],\n",
       "                         &#x27;max_depth&#x27;: [3, 5, 7],\n",
       "                         &#x27;n_estimators&#x27;: [50, 100, 200, 300, 500]})</pre><b>In a Jupyter environment, please rerun this cell to show the HTML representation or trust the notebook. <br />On GitHub, the HTML representation is unable to render, please try loading this page with nbviewer.org.</b></div><div class=\"sk-container\" hidden><div class=\"sk-item sk-dashed-wrapped\"><div class=\"sk-label-container\"><div class=\"sk-label fitted sk-toggleable\"><input class=\"sk-toggleable__control sk-hidden--visually\" id=\"sk-estimator-id-1\" type=\"checkbox\" ><label for=\"sk-estimator-id-1\" class=\"sk-toggleable__label fitted sk-toggleable__label-arrow fitted\">&nbsp;&nbsp;GridSearchCV<a class=\"sk-estimator-doc-link fitted\" rel=\"noreferrer\" target=\"_blank\" href=\"https://scikit-learn.org/1.5/modules/generated/sklearn.model_selection.GridSearchCV.html\">?<span>Documentation for GridSearchCV</span></a><span class=\"sk-estimator-doc-link fitted\">i<span>Fitted</span></span></label><div class=\"sk-toggleable__content fitted\"><pre>GridSearchCV(cv=5, estimator=LGBMClassifier(verbose=-1), n_jobs=-1,\n",
       "             param_grid={&#x27;learning_rate&#x27;: [0.01, 0.1, 0.3],\n",
       "                         &#x27;max_depth&#x27;: [3, 5, 7],\n",
       "                         &#x27;n_estimators&#x27;: [50, 100, 200, 300, 500]})</pre></div> </div></div><div class=\"sk-parallel\"><div class=\"sk-parallel-item\"><div class=\"sk-item\"><div class=\"sk-label-container\"><div class=\"sk-label fitted sk-toggleable\"><input class=\"sk-toggleable__control sk-hidden--visually\" id=\"sk-estimator-id-2\" type=\"checkbox\" ><label for=\"sk-estimator-id-2\" class=\"sk-toggleable__label fitted sk-toggleable__label-arrow fitted\">best_estimator_: LGBMClassifier</label><div class=\"sk-toggleable__content fitted\"><pre>LGBMClassifier(max_depth=3, n_estimators=300, verbose=-1)</pre></div> </div></div><div class=\"sk-serial\"><div class=\"sk-item\"><div class=\"sk-estimator fitted sk-toggleable\"><input class=\"sk-toggleable__control sk-hidden--visually\" id=\"sk-estimator-id-3\" type=\"checkbox\" ><label for=\"sk-estimator-id-3\" class=\"sk-toggleable__label fitted sk-toggleable__label-arrow fitted\">LGBMClassifier</label><div class=\"sk-toggleable__content fitted\"><pre>LGBMClassifier(max_depth=3, n_estimators=300, verbose=-1)</pre></div> </div></div></div></div></div></div></div></div></div>"
      ],
      "text/plain": [
       "GridSearchCV(cv=5, estimator=LGBMClassifier(verbose=-1), n_jobs=-1,\n",
       "             param_grid={'learning_rate': [0.01, 0.1, 0.3],\n",
       "                         'max_depth': [3, 5, 7],\n",
       "                         'n_estimators': [50, 100, 200, 300, 500]})"
      ]
     },
     "execution_count": 66,
     "metadata": {},
     "output_type": "execute_result"
    }
   ],
   "source": [
    "param_grid = {\n",
    "    'max_depth': [3, 5, 7],\n",
    "    'n_estimators': [50, 100, 200, 300, 500],\n",
    "    'learning_rate': [0.01, 0.1, 0.3]\n",
    "}\n",
    "\n",
    "lgbm = lgb.LGBMClassifier(verbose=-1)\n",
    "grid_search = GridSearchCV(lgbm, param_grid, cv=5, n_jobs=-1, verbose=0)\n",
    "grid_search.fit(X_train, y_train)"
   ]
  },
  {
   "cell_type": "code",
   "execution_count": 67,
   "metadata": {},
   "outputs": [
    {
     "data": {
      "text/plain": [
       "{'learning_rate': 0.1, 'max_depth': 3, 'n_estimators': 300}"
      ]
     },
     "execution_count": 67,
     "metadata": {},
     "output_type": "execute_result"
    }
   ],
   "source": [
    "grid_search.best_params_"
   ]
  },
  {
   "cell_type": "markdown",
   "metadata": {},
   "source": [
    "#### **Heatmap of the confusion matrix**\n",
    "    Out of 33492 normal labelled samples 33491 are correctly classified as normal and 1 was misclassified as attack and out of 784 attack labelled samples 782 are correctly classified as attack and 2 are misclassified as normal"
   ]
  },
  {
   "cell_type": "code",
   "execution_count": 68,
   "metadata": {},
   "outputs": [
    {
     "name": "stdout",
     "output_type": "stream",
     "text": [
      "              precision    recall  f1-score   support\n",
      "\n",
      "           0       1.00      1.00      1.00     33492\n",
      "           1       1.00      1.00      1.00       784\n",
      "\n",
      "    accuracy                           1.00     34276\n",
      "   macro avg       1.00      1.00      1.00     34276\n",
      "weighted avg       1.00      1.00      1.00     34276\n",
      "\n"
     ]
    },
    {
     "data": {
      "image/png": "[encoded data removed]",
      "text/plain": [
       "<Figure size 640x480 with 2 Axes>"
      ]
     },
     "metadata": {},
     "output_type": "display_data"
    }
   ],
   "source": [
    "y_pred = grid_search.predict(X_test)\n",
    "print(classification_report(y_test, y_pred))\n",
    "\n",
    "conf_matrix = confusion_matrix(y_test, y_pred)\n",
    "sns.heatmap(conf_matrix, annot=True, fmt='d')\n",
    "plt.xlabel('Predicted')\n",
    "plt.ylabel('Actual')\n",
    "plt.title('Confusion Matrix')\n",
    "plt.show()"
   ]
  },
  {
   "cell_type": "markdown",
   "metadata": {},
   "source": [
    "#### **ROC Curve**\n",
    "    The ROC curve is a graphical representation of the true positive rate against the false positive rate for the different possible cutpoints of a diagnostic test."
   ]
  },
  {
   "cell_type": "code",
   "execution_count": 69,
   "metadata": {},
   "outputs": [
    {
     "data": {
      "image/png": "[encoded data removed]",
      "text/plain": [
       "<Figure size 640x480 with 1 Axes>"
      ]
     },
     "metadata": {},
     "output_type": "display_data"
    }
   ],
   "source": [
    "y_pred_proba = grid_search.predict_proba(X_test)[:, 1]\n",
    "roc_auc = roc_auc_score(y_test, y_pred_proba)\n",
    "\n",
    "fpr, tpr, _ = roc_curve(y_test, y_pred_proba)\n",
    "plt.plot(fpr, tpr, label=f'AUC: {roc_auc:.2f}')\n",
    "plt.plot([0, 1], [0, 1], linestyle='--', color='red')\n",
    "plt.xlabel('False Positive Rate')\n",
    "plt.ylabel('True Positive Rate')\n",
    "plt.title('ROC Curve')\n",
    "plt.legend()\n",
    "plt.show()"
   ]
  },
  {
   "cell_type": "code",
   "execution_count": null,
   "metadata": {},
   "outputs": [],
   "source": []
  }
 ],
 "metadata": {
  "kernelspec": {
   "display_name": "Python 3",
   "language": "python",
   "name": "python3"
  },
  "language_info": {
   "codemirror_mode": {
    "name": "ipython",
    "version": 3
   },
   "file_extension": ".py",
   "mimetype": "text/x-python",
   "name": "python",
   "nbconvert_exporter": "python",
   "pygments_lexer": "ipython3",
   "version": "3.11.9"
  }
 },
 "nbformat": 4,
 "nbformat_minor": 2
}
